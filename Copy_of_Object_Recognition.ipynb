{
  "nbformat": 4,
  "nbformat_minor": 0,
  "metadata": {
    "colab": {
      "provenance": [],
      "collapsed_sections": [],
      "include_colab_link": true
    },
    "kernelspec": {
      "name": "python3",
      "display_name": "Python 3"
    }
  },
  "cells": [
    {
      "cell_type": "markdown",
      "metadata": {
        "id": "view-in-github",
        "colab_type": "text"
      },
      "source": [
        "<a href=\"https://colab.research.google.com/github/KAmbuske02/Pi-in-the-Sky/blob/main/Copy_of_Object_Recognition.ipynb\" target=\"_parent\"><img src=\"https://colab.research.google.com/assets/colab-badge.svg\" alt=\"Open In Colab\"/></a>"
      ]
    },
    {
      "cell_type": "markdown",
      "metadata": {
        "id": "3DxS8o4HaO9r",
        "colab_type": "toc"
      },
      "source": [
        ">[Downloading Model Data](#updateTitle=true&folderId=1Ac9BA6juBSuNY0MybchxlrX93n8x0RCs&scrollTo=m_Vt_gHBOjxd)\n",
        "\n",
        ">[Configuring TensorFlow](#updateTitle=true&folderId=1Ac9BA6juBSuNY0MybchxlrX93n8x0RCs&scrollTo=5IjH5gusOhy9)\n",
        "\n",
        ">[Webcam Demo](#updateTitle=true&folderId=1Ac9BA6juBSuNY0MybchxlrX93n8x0RCs&scrollTo=L95kdZi1QDFw)\n",
        "\n"
      ]
    },
    {
      "cell_type": "markdown",
      "metadata": {
        "id": "m_Vt_gHBOjxd"
      },
      "source": [
        "# Downloading Model Data\n",
        "\n",
        "Run these steps first to download the TensorFlow model data.\n"
      ]
    },
    {
      "cell_type": "code",
      "metadata": {
        "id": "sIZ1ofUKOdhI",
        "outputId": "401fc3f9-612f-4c2d-d694-4a46514bb519",
        "colab": {
          "base_uri": "https://localhost:8080/",
          "height": 261
        }
      },
      "source": [
        "!git clone https://github.com/tensorflow/models\n",
        "checkpoint_name = 'mobilenet_v2_1.0_224'\n",
        "!wget https://storage.googleapis.com/mobilenet_v2/checkpoints/{checkpoint_name}.tgz\n",
        "!tar -xf {checkpoint_name}.tgz\n",
        "checkpoint = '{0}.ckpt'.format(checkpoint_name)\n",
        "print('Setup successful!')"
      ],
      "execution_count": null,
      "outputs": [
        {
          "output_type": "stream",
          "text": [
            "fatal: destination path 'models' already exists and is not an empty directory.\n",
            "--2019-09-19 20:00:34--  https://storage.googleapis.com/mobilenet_v2/checkpoints/mobilenet_v2_1.0_224.tgz\n",
            "Resolving storage.googleapis.com (storage.googleapis.com)... 74.125.141.128, 2607:f8b0:400c:c06::80\n",
            "Connecting to storage.googleapis.com (storage.googleapis.com)|74.125.141.128|:443... connected.\n",
            "HTTP request sent, awaiting response... 200 OK\n",
            "Length: 78306834 (75M) [application/x-tar]\n",
            "Saving to: ‘mobilenet_v2_1.0_224.tgz.1’\n",
            "\n",
            "mobilenet_v2_1.0_22 100%[===================>]  74.68M   252MB/s    in 0.3s    \n",
            "\n",
            "2019-09-19 20:00:35 (252 MB/s) - ‘mobilenet_v2_1.0_224.tgz.1’ saved [78306834/78306834]\n",
            "\n",
            "Setup successful!\n"
          ],
          "name": "stdout"
        }
      ]
    },
    {
      "cell_type": "markdown",
      "metadata": {
        "id": "5IjH5gusOhy9"
      },
      "source": [
        "# Configuring TensorFlow\n",
        "\n",
        "These steps start TensorFlow and read the downloaded model data into memory so we can use them."
      ]
    },
    {
      "cell_type": "code",
      "metadata": {
        "id": "22G9YlIIPxZB",
        "outputId": "815dc14e-986f-414a-eafe-7e6e1ef04026",
        "colab": {
          "base_uri": "https://localhost:8080/",
          "height": 273
        }
      },
      "source": [
        "import tensorflow as tf\n",
        "\n",
        "# setup path so that mobilenet_v2 can be found.\n",
        "import sys\n",
        "sys.path.append('/content/models/research/slim')\n",
        "from nets.mobilenet import mobilenet_v2\n",
        "\n",
        "tf.reset_default_graph()\n",
        "\n",
        "# This section builds a \"graph\" in TensorFlow to explain how to process the data.\n",
        "jpeg_input_tensor = tf.placeholder(tf.string, ())  # We will provide a JPEG to TF.\n",
        "\n",
        "# First, instruct TF to decode the JPEG string into a matrix.\n",
        "image = tf.image.decode_jpeg(jpeg_input_tensor)\n",
        "\n",
        "# Resize the image to make it friendlier to mobilenet.\n",
        "images = tf.expand_dims(image, 0)\n",
        "images = tf.cast(images, tf.float32) / 128.  - 1\n",
        "images.set_shape((None, None, None, 3))\n",
        "images = tf.image.resize_images(images, (224, 224))\n",
        "\n",
        "# Note: arg_scope is optional for inference.\n",
        "with tf.contrib.slim.arg_scope(mobilenet_v2.training_scope(is_training=False)):\n",
        "  logits, endpoints = mobilenet_v2.mobilenet(images)\n",
        "  \n",
        "# Restore using exponential moving average since it produces (1.5-2%) higher \n",
        "# accuracy\n",
        "ema = tf.train.ExponentialMovingAverage(0.999)\n",
        "vars = ema.variables_to_restore()\n",
        "\n",
        "saver = tf.train.Saver(vars)  "
      ],
      "execution_count": null,
      "outputs": [
        {
          "output_type": "stream",
          "text": [
            "WARNING:tensorflow:\n",
            "The TensorFlow contrib module will not be included in TensorFlow 2.0.\n",
            "For more information, please see:\n",
            "  * https://github.com/tensorflow/community/blob/master/rfcs/20180907-contrib-sunset.md\n",
            "  * https://github.com/tensorflow/addons\n",
            "  * https://github.com/tensorflow/io (for I/O related ops)\n",
            "If you depend on functionality not listed there, please file an issue.\n",
            "\n",
            "WARNING:tensorflow:From /content/models/research/slim/nets/mobilenet/mobilenet.py:397: The name tf.nn.avg_pool is deprecated. Please use tf.nn.avg_pool2d instead.\n",
            "\n",
            "WARNING:tensorflow:From /content/models/research/slim/nets/mobilenet/mobilenet.py:364: The name tf.variable_scope is deprecated. Please use tf.compat.v1.variable_scope instead.\n",
            "\n"
          ],
          "name": "stdout"
        }
      ]
    },
    {
      "cell_type": "markdown",
      "metadata": {
        "id": "L95kdZi1QDFw"
      },
      "source": [
        "# Webcam Demo\n",
        "\n",
        "This section creates the video input element and connects it to TensorFlow."
      ]
    },
    {
      "cell_type": "code",
      "metadata": {
        "id": "FbaKfbOxQCwi",
        "outputId": "f60a70eb-3f09-4f9a-e95d-16e8c56bf858",
        "colab": {
          "base_uri": "https://localhost:8080/",
          "height": 529
        }
      },
      "source": [
        "# Taken from https://colab.research.google.com/notebooks/snippets/advanced_outputs.ipynb#scrollTo=SucxddsPhOmj\n",
        "from datasets import imagenet\n",
        "from IPython.display import display, Javascript\n",
        "from google.colab.output import eval_js\n",
        "from base64 import b64decode\n",
        "\n",
        "def start_input():\n",
        "  js = Javascript('''\n",
        "    var video;\n",
        "    var div = null;\n",
        "    var stream;\n",
        "    var canvas;\n",
        "    var labelElement;\n",
        "    \n",
        "    var pendingResolve = null;\n",
        "    var shutdown = false;\n",
        "    var animationFrameId;\n",
        "    \n",
        "    function removeDom() {\n",
        "       stream.getVideoTracks()[0].stop();\n",
        "       video.remove();\n",
        "       div.remove();\n",
        "       video = null;\n",
        "       div = null;\n",
        "       stream = null;\n",
        "       canvas = null;\n",
        "       labelElement = null;\n",
        "    }\n",
        "    \n",
        "    function onAnimationFrame() {\n",
        "      console.log('anim' + pendingResolve);\n",
        "      if (pendingResolve) {\n",
        "        var result = \"\";\n",
        "        if (shutdown) {\n",
        "          removeDom();\n",
        "          window.cancelAnimationFrame(animationFrameId);\n",
        "          animationFrameId = null;\n",
        "        } else {\n",
        "          canvas.getContext('2d').drawImage(video, 0, 0);\n",
        "          result = canvas.toDataURL('image/jpeg', 0.8)\n",
        "        }\n",
        "        var lp = pendingResolve;\n",
        "        pendingResolve = null;\n",
        "        shutdown = false;\n",
        "        lp(result);\n",
        "      }\n",
        "      \n",
        "      animationFrameId = window.requestAnimationFrame(onAnimationFrame);\n",
        "    }\n",
        "    \n",
        "    async function createDom() {\n",
        "      if (div !== null) {\n",
        "        return stream;\n",
        "      }\n",
        "\n",
        "      div = document.createElement('div');\n",
        "      div.style.border = '2px solid black';\n",
        "      div.style.padding = '3px';\n",
        "      div.style.width = '100%';\n",
        "      div.style.maxWidth = '600px';\n",
        "      document.body.appendChild(div);\n",
        "      \n",
        "      video = document.createElement('video');\n",
        "      video.style.display = 'block';\n",
        "      video.width = div.clientWidth - 6;\n",
        "//      video.style.width = '100%';\n",
        "      video.setAttribute('playsinline', '');\n",
        "      video.onclick = () => { shutdown = true; };\n",
        "      stream = await navigator.mediaDevices.getUserMedia(\n",
        "          {video: { facingMode: \"environment\"}});\n",
        "      \n",
        "      const modelOut = document.createElement('div');\n",
        "      modelOut.innerHTML = \"<span>Model output:</span>\";\n",
        "      labelElement = document.createElement('span');\n",
        "      labelElement.innerText = 'No data';\n",
        "      labelElement.style.fontWeight = 'bold';\n",
        "      modelOut.appendChild(labelElement);\n",
        "      div.appendChild(modelOut);\n",
        "      \n",
        "      div.appendChild(video);\n",
        "      \n",
        "      const instruction = document.createElement('div');\n",
        "      instruction.innerHTML = \n",
        "          '<span style=\"color: red; font-weight: bold;\">' +\n",
        "          'When finished, click the video to stop this demo</span>';\n",
        "      div.appendChild(instruction);\n",
        "      \n",
        "      video.srcObject = stream;\n",
        "      await video.play();\n",
        "      \n",
        "      // Resize the output to fit the video element.\n",
        "      // google.colab.output.setIframeHeight(document.documentElement.scrollHeight, true);\n",
        "      \n",
        "      canvas = document.createElement('canvas');\n",
        "      canvas.width = video.videoWidth;\n",
        "      canvas.height = video.videoHeight;\n",
        "      animationFrameId = window.requestAnimationFrame(onAnimationFrame);\n",
        "      \n",
        "      return stream;\n",
        "    }\n",
        "    async function takePhoto(label, highlight) {\n",
        "      stream = await createDom();\n",
        "      labelElement.innerText = label;\n",
        "      labelElement.style.color = (highlight ? 'green' : 'orange');\n",
        "      return await new Promise(function(resolve, reject) {\n",
        "        pendingResolve = resolve;\n",
        "      });\n",
        "    }\n",
        "    ''')\n",
        "\n",
        "  display(js)\n",
        "  \n",
        "def take_photo(label, highlight):\n",
        "  data = eval_js('takePhoto(\"{}\", {})'.format(label, str(highlight).lower()))\n",
        "  return data\n",
        "\n",
        "label_map = imagenet.create_readable_names_for_imagenet_labels()\n",
        "with tf.Session() as sess:\n",
        "  saver.restore(sess,  checkpoint)\n",
        "\n",
        "  start_input()  \n",
        "  label = 'Capturing...'\n",
        "  highlight = True\n",
        "  while True:\n",
        "    jpeg_b64 = take_photo(label, highlight)\n",
        "    if not jpeg_b64:\n",
        "      break\n",
        "\n",
        "    jpeg_input = b64decode(jpeg_b64.split(',')[1])\n",
        "    x = endpoints['Predictions'].eval(feed_dict={jpeg_input_tensor: jpeg_input})\n",
        "    label = \"Top prediction: {} (confidence: {:2.3f}%, id #{})\".format(\n",
        "        label_map[x.argmax()], x.max() * 100.0, x.argmax())\n",
        "    highlight = x.max() >= 0.7\n",
        "  \n",
        "\n",
        "print('Finished')"
      ],
      "execution_count": null,
      "outputs": [
        {
          "output_type": "stream",
          "text": [
            "INFO:tensorflow:Restoring parameters from mobilenet_v2_1.0_224.ckpt\n"
          ],
          "name": "stdout"
        },
        {
          "output_type": "display_data",
          "data": {
            "application/javascript": [
              "\n",
              "    var video;\n",
              "    var div = null;\n",
              "    var stream;\n",
              "    var canvas;\n",
              "    var labelElement;\n",
              "    \n",
              "    var pendingResolve = null;\n",
              "    var shutdown = false;\n",
              "    var animationFrameId;\n",
              "    \n",
              "    function removeDom() {\n",
              "       stream.getVideoTracks()[0].stop();\n",
              "       video.remove();\n",
              "       div.remove();\n",
              "       video = null;\n",
              "       div = null;\n",
              "       stream = null;\n",
              "       canvas = null;\n",
              "       labelElement = null;\n",
              "    }\n",
              "    \n",
              "    function onAnimationFrame() {\n",
              "      console.log('anim' + pendingResolve);\n",
              "      if (pendingResolve) {\n",
              "        var result = \"\";\n",
              "        if (shutdown) {\n",
              "          removeDom();\n",
              "          window.cancelAnimationFrame(animationFrameId);\n",
              "          animationFrameId = null;\n",
              "        } else {\n",
              "          canvas.getContext('2d').drawImage(video, 0, 0);\n",
              "          result = canvas.toDataURL('image/jpeg', 0.8)\n",
              "        }\n",
              "        var lp = pendingResolve;\n",
              "        pendingResolve = null;\n",
              "        shutdown = false;\n",
              "        lp(result);\n",
              "      }\n",
              "      \n",
              "      animationFrameId = window.requestAnimationFrame(onAnimationFrame);\n",
              "    }\n",
              "    \n",
              "    async function createDom() {\n",
              "      if (div !== null) {\n",
              "        return stream;\n",
              "      }\n",
              "\n",
              "      div = document.createElement('div');\n",
              "      div.style.border = '2px solid black';\n",
              "      div.style.padding = '3px';\n",
              "      div.style.width = '100%';\n",
              "      div.style.maxWidth = '600px';\n",
              "      document.body.appendChild(div);\n",
              "      \n",
              "      video = document.createElement('video');\n",
              "      video.style.display = 'block';\n",
              "      video.width = div.clientWidth - 6;\n",
              "//      video.style.width = '100%';\n",
              "      video.setAttribute('playsinline', '');\n",
              "      video.onclick = () => { shutdown = true; };\n",
              "      stream = await navigator.mediaDevices.getUserMedia(\n",
              "          {video: { facingMode: \"environment\"}});\n",
              "      \n",
              "      const modelOut = document.createElement('div');\n",
              "      modelOut.innerHTML = \"<span>Model output:</span>\";\n",
              "      labelElement = document.createElement('span');\n",
              "      labelElement.innerText = 'No data';\n",
              "      labelElement.style.fontWeight = 'bold';\n",
              "      modelOut.appendChild(labelElement);\n",
              "      div.appendChild(modelOut);\n",
              "      \n",
              "      div.appendChild(video);\n",
              "      \n",
              "      const instruction = document.createElement('div');\n",
              "      instruction.innerHTML = \n",
              "          '<span style=\"color: red; font-weight: bold;\">' +\n",
              "          'When finished, click the video to stop this demo</span>';\n",
              "      div.appendChild(instruction);\n",
              "      \n",
              "      video.srcObject = stream;\n",
              "      await video.play();\n",
              "      \n",
              "      // Resize the output to fit the video element.\n",
              "      // google.colab.output.setIframeHeight(document.documentElement.scrollHeight, true);\n",
              "      \n",
              "      canvas = document.createElement('canvas');\n",
              "      canvas.width = video.videoWidth;\n",
              "      canvas.height = video.videoHeight;\n",
              "      animationFrameId = window.requestAnimationFrame(onAnimationFrame);\n",
              "      \n",
              "      return stream;\n",
              "    }\n",
              "    async function takePhoto(label, highlight) {\n",
              "      stream = await createDom();\n",
              "      labelElement.innerText = label;\n",
              "      labelElement.style.color = (highlight ? 'green' : 'orange');\n",
              "      return await new Promise(function(resolve, reject) {\n",
              "        pendingResolve = resolve;\n",
              "      });\n",
              "    }\n",
              "    "
            ],
            "text/plain": [
              "<IPython.core.display.Javascript object>"
            ]
          },
          "metadata": {
            "tags": []
          }
        }
      ]
    }
  ]
}