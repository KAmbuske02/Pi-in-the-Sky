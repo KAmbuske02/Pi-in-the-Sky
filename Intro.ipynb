{
  "nbformat": 4,
  "nbformat_minor": 0,
  "metadata": {
    "colab": {
      "provenance": [],
      "authorship_tag": "ABX9TyNZ3r9dF3a000e790PElx2r",
      "include_colab_link": true
    },
    "kernelspec": {
      "name": "python3",
      "display_name": "Python 3"
    },
    "language_info": {
      "name": "python"
    }
  },
  "cells": [
    {
      "cell_type": "markdown",
      "metadata": {
        "id": "view-in-github",
        "colab_type": "text"
      },
      "source": [
        "<a href=\"https://colab.research.google.com/github/KAmbuske02/Pi-in-the-Sky/blob/main/Intro.ipynb\" target=\"_parent\"><img src=\"https://colab.research.google.com/assets/colab-badge.svg\" alt=\"Open In Colab\"/></a>"
      ]
    },
    {
      "cell_type": "markdown",
      "source": [
        "**Machine Learning and UAV's**\n",
        "\n",
        "This is my project for the United States Air Force Academy that will combine machine learning and UAV's to be able to identfy people and objects from the sky"
      ],
      "metadata": {
        "id": "loeCwxcbHuMm"
      }
    }
  ]
}